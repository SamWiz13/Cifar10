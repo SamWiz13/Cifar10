{
 "cells": [
  {
   "cell_type": "code",
   "execution_count": 13,
   "id": "8c14d558-8d5a-4006-a60d-f7f14c428295",
   "metadata": {
    "tags": []
   },
   "outputs": [],
   "source": [
    "import sys\n",
    "from matplotlib import pyplot\n",
    "from keras.datasets import cifar10\n",
    "from keras.utils import to_categorical\n",
    "from keras.models import Sequential\n",
    "from keras.layers import Conv2D\n",
    "from keras.layers import MaxPooling2D\n",
    "from keras.layers import Dense\n",
    "from keras.layers import Flatten\n",
    "from keras.optimizers import SGD\n",
    "from keras.preprocessing.image import ImageDataGenerator\n",
    "from keras.layers import Dropout\n",
    "from keras.layers import BatchNormalization\n",
    "from tensorflow.keras.callbacks import LambdaCallback\n",
    "import tensorflow as tf\n",
    "import os"
   ]
  },
  {
   "cell_type": "markdown",
   "id": "7c0e9f9d-8dfe-4a04-89b6-5548704ea2ec",
   "metadata": {},
   "source": [
    "## Load train and test dataset"
   ]
  },
  {
   "cell_type": "code",
   "execution_count": 14,
   "id": "5e9d717e-7250-4a7e-9ce7-53f5c2a8bd89",
   "metadata": {
    "tags": []
   },
   "outputs": [],
   "source": [
    "def load_dataset():\n",
    "     # load dataset\n",
    "    (trainX, trainY), (testX, testY) = cifar10.load_data()\n",
    "    \n",
    "     # one hot encode target values\n",
    "    trainY = to_categorical(trainY)\n",
    "    testY = to_categorical(testY)\n",
    "    return trainX, trainY, testX, testY\n",
    "\n",
    "# load_dataset()"
   ]
  },
  {
   "cell_type": "markdown",
   "id": "07cd7d2a-7834-4c6c-80fd-b2c3c429d84b",
   "metadata": {},
   "source": [
    "## Scale pixels"
   ]
  },
  {
   "cell_type": "code",
   "execution_count": 15,
   "id": "d16c781a-ee0d-4697-b683-df9cf1345133",
   "metadata": {
    "tags": []
   },
   "outputs": [],
   "source": [
    "def prep_pixels(train, test):\n",
    " # convert from integers to floats\n",
    "    train_norm = train.astype('float32')\n",
    "    test_norm = test.astype('float32')\n",
    " # normalize to range 0-1\n",
    "    train_norm = train_norm / 255.0\n",
    "    test_norm = test_norm / 255.0\n",
    " # return normalized images\n",
    "    return train_norm, test_norm\n"
   ]
  },
  {
   "cell_type": "markdown",
   "id": "bc5bc1c4-e211-4d9c-8eec-41c44b99a807",
   "metadata": {},
   "source": [
    "## CNN model"
   ]
  },
  {
   "cell_type": "code",
   "execution_count": 17,
   "id": "d9f161ce-838f-4ffd-8010-738a237e5aa2",
   "metadata": {
    "tags": []
   },
   "outputs": [],
   "source": [
    "def define_model():\n",
    "    model = Sequential()\n",
    "    model.add(Conv2D(32, (3, 3), activation='relu', kernel_initializer='he_uniform', padding='same', input_shape=(32, 32, 3)))\n",
    "    model.add(Conv2D(32, (3, 3), activation='relu', kernel_initializer='he_uniform', padding='same'))\n",
    "    model.add(MaxPooling2D((2, 2)))\n",
    "    model.add(Conv2D(64, (3, 3), activation='relu', kernel_initializer='he_uniform', padding='same'))\n",
    "    model.add(Conv2D(64, (3, 3), activation='relu', kernel_initializer='he_uniform', padding='same'))\n",
    "    model.add(MaxPooling2D((2, 2)))\n",
    "    model.add(Conv2D(128, (3, 3), activation='relu', kernel_initializer='he_uniform', padding='same'))\n",
    "    model.add(Conv2D(128, (3, 3), activation='relu', kernel_initializer='he_uniform', padding='same'))\n",
    "    model.add(MaxPooling2D((2, 2)))\n",
    "    model.add(Flatten())\n",
    "    model.add(Dense(128, activation='relu', kernel_initializer='he_uniform'))\n",
    "    model.add(Dense(10, activation='softmax'))\n",
    "     # compile model\n",
    "    opt = SGD(lr=0.001, momentum=0.9)\n",
    "    model.compile(optimizer=opt, loss='categorical_crossentropy', metrics=['accuracy'])\n",
    "    return model"
   ]
  },
  {
   "cell_type": "markdown",
   "id": "1ae35f79-f0d7-4a71-807e-d11d77477d42",
   "metadata": {},
   "source": [
    "## Plot diagnostic learning curves"
   ]
  },
  {
   "cell_type": "code",
   "execution_count": 18,
   "id": "68eba114-e525-40b2-9625-a996f02b1bc4",
   "metadata": {
    "tags": []
   },
   "outputs": [],
   "source": [
    "def summarize_diagnostics(history):\n",
    "    \n",
    "    # plot loss\n",
    "    pyplot.subplot(211)\n",
    "    pyplot.title('Cross Entropy Loss')\n",
    "    pyplot.plot(history.history['loss'], color='blue', label='train')\n",
    "    pyplot.plot(history.history['val_loss'], color='orange', label='test')\n",
    "    \n",
    "    # plot accuracy\n",
    "    pyplot.subplot(212)\n",
    "    pyplot.title('Classification Accuracy')\n",
    "    pyplot.plot(history.history['accuracy'], color='blue', label='train')\n",
    "    pyplot.plot(history.history['val_accuracy'], color='orange', label='test')\n",
    "    \n",
    "    # save plot to file\n",
    "    filename = sys.argv[0].split('/')[-1]\n",
    "    pyplot.savefig(filename + '_plot.png')\n",
    "    pyplot.close()\n"
   ]
  },
  {
   "cell_type": "markdown",
   "id": "07148021-7992-4328-b723-9fbbde71514b",
   "metadata": {},
   "source": [
    "## Run the test harness for evaluating a model"
   ]
  },
  {
   "cell_type": "code",
   "execution_count": 24,
   "id": "182e02fd-c3a5-4811-a472-469ba700d477",
   "metadata": {
    "tags": []
   },
   "outputs": [
    {
     "name": "stdout",
     "output_type": "stream",
     "text": [
      "Epoch 1/30\n",
      "782/782 [==============================] - 97s 123ms/step - loss: 1.7198 - accuracy: 0.3806 - val_loss: 1.4595 - val_accuracy: 0.4753\n",
      "Epoch 2/30\n",
      "782/782 [==============================] - 99s 126ms/step - loss: 1.3696 - accuracy: 0.5070 - val_loss: 1.3030 - val_accuracy: 0.5237\n",
      "Epoch 3/30\n",
      "782/782 [==============================] - 96s 123ms/step - loss: 1.1962 - accuracy: 0.5757 - val_loss: 1.1796 - val_accuracy: 0.5836\n",
      "Epoch 4/30\n",
      "782/782 [==============================] - 96s 122ms/step - loss: 1.0636 - accuracy: 0.6254 - val_loss: 1.0406 - val_accuracy: 0.6315\n",
      "Epoch 5/30\n",
      "782/782 [==============================] - 101s 129ms/step - loss: 0.9683 - accuracy: 0.6613 - val_loss: 1.0575 - val_accuracy: 0.6268\n",
      "Epoch 6/30\n",
      "782/782 [==============================] - 105s 135ms/step - loss: 0.8762 - accuracy: 0.6936 - val_loss: 0.9045 - val_accuracy: 0.6840\n",
      "Epoch 7/30\n",
      "782/782 [==============================] - 100s 128ms/step - loss: 0.8080 - accuracy: 0.7208 - val_loss: 0.9096 - val_accuracy: 0.6878\n",
      "Epoch 8/30\n",
      "782/782 [==============================] - 106s 136ms/step - loss: 0.7469 - accuracy: 0.7403 - val_loss: 0.8384 - val_accuracy: 0.7060\n",
      "Epoch 9/30\n",
      "782/782 [==============================] - 123s 157ms/step - loss: 0.6866 - accuracy: 0.7632 - val_loss: 0.8394 - val_accuracy: 0.7040\n",
      "Epoch 10/30\n",
      "782/782 [==============================] - 114s 146ms/step - loss: 0.6399 - accuracy: 0.7797 - val_loss: 0.8384 - val_accuracy: 0.7150\n",
      "Epoch 11/30\n",
      "782/782 [==============================] - 100s 128ms/step - loss: 0.5898 - accuracy: 0.7955 - val_loss: 0.7966 - val_accuracy: 0.7295\n",
      "Epoch 12/30\n",
      "782/782 [==============================] - 103s 132ms/step - loss: 0.5472 - accuracy: 0.8097 - val_loss: 0.8600 - val_accuracy: 0.7118\n",
      "Epoch 13/30\n",
      "782/782 [==============================] - 108s 138ms/step - loss: 0.4998 - accuracy: 0.8272 - val_loss: 0.8157 - val_accuracy: 0.7286\n",
      "Epoch 14/30\n",
      "782/782 [==============================] - 112s 143ms/step - loss: 0.4558 - accuracy: 0.8409 - val_loss: 0.8885 - val_accuracy: 0.7139\n",
      "Epoch 15/30\n",
      "782/782 [==============================] - 106s 135ms/step - loss: 0.4207 - accuracy: 0.8540 - val_loss: 0.8674 - val_accuracy: 0.7214\n",
      "Epoch 16/30\n",
      "782/782 [==============================] - 104s 133ms/step - loss: 0.3747 - accuracy: 0.8696 - val_loss: 0.8836 - val_accuracy: 0.7338\n",
      "Epoch 17/30\n",
      "782/782 [==============================] - 101s 129ms/step - loss: 0.3375 - accuracy: 0.8829 - val_loss: 0.9114 - val_accuracy: 0.7356\n",
      "Epoch 18/30\n",
      "782/782 [==============================] - 97s 124ms/step - loss: 0.2985 - accuracy: 0.8960 - val_loss: 0.9563 - val_accuracy: 0.7304\n",
      "Epoch 19/30\n",
      "782/782 [==============================] - 97s 124ms/step - loss: 0.2656 - accuracy: 0.9074 - val_loss: 0.9438 - val_accuracy: 0.7378\n",
      "Epoch 20/30\n",
      "782/782 [==============================] - 99s 127ms/step - loss: 0.2302 - accuracy: 0.9198 - val_loss: 1.0785 - val_accuracy: 0.7237\n",
      "Epoch 21/30\n",
      "782/782 [==============================] - 106s 136ms/step - loss: 0.1984 - accuracy: 0.9317 - val_loss: 1.0998 - val_accuracy: 0.7252\n",
      "Epoch 22/30\n",
      "782/782 [==============================] - 101s 130ms/step - loss: 0.1694 - accuracy: 0.9415 - val_loss: 1.1346 - val_accuracy: 0.7231\n",
      "Epoch 23/30\n",
      "782/782 [==============================] - 100s 128ms/step - loss: 0.1360 - accuracy: 0.9544 - val_loss: 1.1950 - val_accuracy: 0.7273\n",
      "Epoch 24/30\n",
      "782/782 [==============================] - 103s 131ms/step - loss: 0.1233 - accuracy: 0.9585 - val_loss: 1.2327 - val_accuracy: 0.7281\n",
      "Epoch 25/30\n",
      "782/782 [==============================] - 148s 190ms/step - loss: 0.1039 - accuracy: 0.9651 - val_loss: 1.3417 - val_accuracy: 0.7215\n",
      "Epoch 26/30\n",
      "782/782 [==============================] - 148s 189ms/step - loss: 0.0965 - accuracy: 0.9667 - val_loss: 1.3859 - val_accuracy: 0.7229\n",
      "Epoch 27/30\n",
      "782/782 [==============================] - 144s 184ms/step - loss: 0.0868 - accuracy: 0.9697 - val_loss: 1.4321 - val_accuracy: 0.7285\n",
      "Epoch 28/30\n",
      "782/782 [==============================] - 150s 192ms/step - loss: 0.0732 - accuracy: 0.9749 - val_loss: 1.4184 - val_accuracy: 0.7285\n",
      "Epoch 29/30\n",
      "782/782 [==============================] - 149s 191ms/step - loss: 0.0720 - accuracy: 0.9759 - val_loss: 1.4807 - val_accuracy: 0.7286\n",
      "Epoch 30/30\n",
      "782/782 [==============================] - 11019s 14s/step - loss: 0.0664 - accuracy: 0.9770 - val_loss: 1.5265 - val_accuracy: 0.7217\n",
      "Epoch 1: loss = 1.7198, accuracy = 0.3806\n",
      "Epoch 2: loss = 1.3696, accuracy = 0.5070\n",
      "Epoch 3: loss = 1.1962, accuracy = 0.5757\n",
      "Epoch 4: loss = 1.0636, accuracy = 0.6254\n",
      "Epoch 5: loss = 0.9683, accuracy = 0.6613\n",
      "Epoch 6: loss = 0.8762, accuracy = 0.6936\n",
      "Epoch 7: loss = 0.8080, accuracy = 0.7208\n",
      "Epoch 8: loss = 0.7469, accuracy = 0.7403\n",
      "Epoch 9: loss = 0.6866, accuracy = 0.7632\n",
      "Epoch 10: loss = 0.6399, accuracy = 0.7797\n",
      "Epoch 11: loss = 0.5898, accuracy = 0.7955\n",
      "Epoch 12: loss = 0.5472, accuracy = 0.8097\n",
      "Epoch 13: loss = 0.4998, accuracy = 0.8272\n",
      "Epoch 14: loss = 0.4558, accuracy = 0.8409\n",
      "Epoch 15: loss = 0.4207, accuracy = 0.8540\n",
      "Epoch 16: loss = 0.3747, accuracy = 0.8696\n",
      "Epoch 17: loss = 0.3375, accuracy = 0.8829\n",
      "Epoch 18: loss = 0.2985, accuracy = 0.8960\n",
      "Epoch 19: loss = 0.2656, accuracy = 0.9074\n",
      "Epoch 20: loss = 0.2302, accuracy = 0.9198\n",
      "Epoch 21: loss = 0.1984, accuracy = 0.9317\n",
      "Epoch 22: loss = 0.1694, accuracy = 0.9415\n",
      "Epoch 23: loss = 0.1360, accuracy = 0.9544\n",
      "Epoch 24: loss = 0.1233, accuracy = 0.9585\n",
      "Epoch 25: loss = 0.1039, accuracy = 0.9651\n",
      "Epoch 26: loss = 0.0965, accuracy = 0.9667\n",
      "Epoch 27: loss = 0.0868, accuracy = 0.9697\n",
      "Epoch 28: loss = 0.0732, accuracy = 0.9749\n",
      "Epoch 29: loss = 0.0720, accuracy = 0.9759\n",
      "Epoch 30: loss = 0.0664, accuracy = 0.9770\n",
      "> 72.170\n"
     ]
    }
   ],
   "source": [
    "def run_test_harness():\n",
    "    # load dataset\n",
    "    trainX, trainY, testX, testY = load_dataset()\n",
    "    # prepare pixel data\n",
    "    trainX, testX = prep_pixels(trainX, testX)\n",
    "    # define model\n",
    "    model = define_model()\n",
    "    # fit model\n",
    "    history = model.fit(trainX, trainY, epochs=30, batch_size=64, verbose=1, validation_data=(testX, testY))\n",
    "    # save model\n",
    "    model.save('final_model.h5')\n",
    "\n",
    "    # Print the loss and accuracy for each epoch\n",
    "    for i, loss in enumerate(history.history['loss']):\n",
    "        print(f\"Epoch {i+1}: loss = {loss:.4f}, accuracy = {history.history['accuracy'][i]:.4f}\")\n",
    "\n",
    "    _, acc = model.evaluate(testX, testY, verbose=0)\n",
    "    print('> %.3f' % (acc * 100.0))\n",
    "\n",
    "# entry point, run the test harness\n",
    "run_test_harness()\n"
   ]
  },
  {
   "cell_type": "markdown",
   "id": "17304cc4-c429-42f3-81b2-3f808ae2b10c",
   "metadata": {},
   "source": [
    "##  Load and prepare the image\n"
   ]
  },
  {
   "cell_type": "code",
   "execution_count": 29,
   "id": "b6a5aa3f-9db0-4d78-8379-fd7706a580ff",
   "metadata": {},
   "outputs": [],
   "source": [
    "def load_image(filename):\n",
    "    # load the image\n",
    "    img = load_img(filename, target_size=(32, 32))\n",
    "    img = img_to_array(img)\n",
    "\n",
    "    # reshape into a single sample with 3 channels\n",
    "    img = img.reshape(1, 32, 32, 3)\n",
    " \n",
    "    # prepare pixel data\n",
    "    img = img.astype('float32')\n",
    "    img = img / 255.0\n",
    "    return img\n",
    "\n"
   ]
  }
 ],
 "metadata": {
  "kernelspec": {
   "display_name": "Python 3 (ipykernel)",
   "language": "python",
   "name": "python3"
  },
  "language_info": {
   "codemirror_mode": {
    "name": "ipython",
    "version": 3
   },
   "file_extension": ".py",
   "mimetype": "text/x-python",
   "name": "python",
   "nbconvert_exporter": "python",
   "pygments_lexer": "ipython3",
   "version": "3.11.2"
  }
 },
 "nbformat": 4,
 "nbformat_minor": 5
}
